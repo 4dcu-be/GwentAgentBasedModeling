{
 "cells": [
  {
   "cell_type": "markdown",
   "metadata": {},
   "source": [
    "# Agent Based Modelling"
   ]
  },
  {
   "cell_type": "code",
   "execution_count": 1,
   "metadata": {},
   "outputs": [
    {
     "data": {
      "application/javascript": [
       "\n",
       "            setTimeout(function() {\n",
       "                var nbb_cell_id = 1;\n",
       "                var nbb_unformatted_code = \"%load_ext nb_black\";\n",
       "                var nbb_formatted_code = \"%load_ext nb_black\";\n",
       "                var nbb_cells = Jupyter.notebook.get_cells();\n",
       "                for (var i = 0; i < nbb_cells.length; ++i) {\n",
       "                    if (nbb_cells[i].input_prompt_number == nbb_cell_id) {\n",
       "                        if (nbb_cells[i].get_text() == nbb_unformatted_code) {\n",
       "                             nbb_cells[i].set_text(nbb_formatted_code);\n",
       "                        }\n",
       "                        break;\n",
       "                    }\n",
       "                }\n",
       "            }, 500);\n",
       "            "
      ],
      "text/plain": [
       "<IPython.core.display.Javascript object>"
      ]
     },
     "metadata": {},
     "output_type": "display_data"
    }
   ],
   "source": [
    "%load_ext nb_black"
   ]
  },
  {
   "cell_type": "code",
   "execution_count": 2,
   "metadata": {},
   "outputs": [
    {
     "data": {
      "application/javascript": [
       "\n",
       "            setTimeout(function() {\n",
       "                var nbb_cell_id = 2;\n",
       "                var nbb_unformatted_code = \"from mesa import Agent, Model\\nfrom mesa.time import RandomActivation\\nfrom mesa.datacollection import DataCollector\\n\\nimport numpy as np\\nfrom numpy import random\\n\\nmax_playrate = 20\\nexperience_factor = 0\\n\\n\\ndef win_probability(elo_difference):\\n    proba = 1 / (1 + 10 ** (-elo_difference / 400))\\n    return proba\\n\\n\\ndef elo_change(elo_difference, K=14):\\n    return K * (1 - win_probability(elo_difference))\\n\\n\\ndef pick_elo():\\n    \\\"\\\"\\\"\\n    Generate a random elo value from a distribution that mimicks the distribution of chess elo scores on Lichess Blitz.\\n    \\\"\\\"\\\"\\n    return min(\\n        1200 + (1500 / 14) * np.abs(51 - random.binomial(100, 0.5)), 2700\\n    ) - random.randint(100)\\n\\n\\n# def pick_elo():\\n#     return random.binomial(100, 0.5) * 40 - random.randint(100) + 50\\n\\n\\nclass GwentAgent(Agent):\\n    def __init__(self, unique_id, model):\\n        super().__init__(unique_id, model)\\n        self.peak_mmr = 2400\\n        self.current_mmr = 2400\\n        self.games_played = 0\\n        self.wins = 0\\n\\n        self.elo_level = pick_elo()\\n        self.playrate = random.randint(1, max_playrate)\\n\\n    @property\\n    def win_rate(self):\\n        if self.games_played > 0:\\n            return (self.wins * 100) / self.games_played\\n        return None\\n\\n    @property\\n    def elo_experience(self):\\n        \\\"\\\"\\\"\\n        Take the ELO increased with an experience score based on the number of games played and the experience factor.\\n        \\\"\\\"\\\"\\n        return self.elo_level + np.sqrt(self.games_played) * experience_factor\\n\\n    def win(self, other_player):\\n        mmr_change = elo_change(self.current_mmr - other_player.current_mmr)\\n        self.current_mmr += mmr_change\\n        self.peak_mmr = max(self.current_mmr, self.peak_mmr)\\n        self.games_played += 1\\n        self.wins += 1\\n\\n    def loss(self, other_player):\\n        mmr_change = elo_change(other_player.current_mmr - self.current_mmr)\\n        self.current_mmr -= mmr_change\\n        self.games_played += 1\\n\\n    def find_opponent(self, min_number=20):\\n        \\\"\\\"\\\"\\n        Pick a random other agent to play against. This agent should have a comparable current mmr. So we will grow the mmr \\n        range until there are at least\\n        \\\"\\\"\\\"\\n        mmr_range = 10\\n\\n        while (\\n            len(\\n                [\\n                    a\\n                    for a in self.model.schedule.agents\\n                    if a.unique_id != self.unique_id\\n                    and abs(self.current_mmr - a.current_mmr) <= mmr_range\\n                ]\\n            )\\n            < min_number\\n        ):\\n            mmr_range += 7\\n\\n        possible_opponents = [\\n            a\\n            for a in self.model.schedule.agents\\n            if a.unique_id != self.unique_id\\n            and abs(self.current_mmr - a.current_mmr) <= mmr_range\\n        ]\\n\\n        opponent = random.choice(\\n            [a for a in possible_opponents],\\n            1,\\n            [a.playrate for a in possible_opponents],\\n        )[0]\\n\\n        return opponent\\n\\n    def play_against(self, other_agent):\\n        # Calculate win probability, check if player won, adjust scores accordingly\\n        wp = win_probability(self.elo_experience - other_agent.elo_experience)\\n        rp = random.random()\\n        won = rp < wp\\n\\n        if won:\\n            self.win(other_agent)\\n            other_agent.loss(self)\\n        else:\\n            other_agent.win(self)\\n            self.loss(other_agent)\\n\\n    def step(self):\\n        # Check if this agent will play a round\\n        rp = random.randint(max_playrate + 1)\\n        if rp >= self.playrate:\\n            return\\n\\n        # Find an opponent\\n        other_agent = self.find_opponent()\\n\\n        # Play against opponent and adjust score\\n        self.play_against(other_agent)\\n\\n\\nclass GwentModel(Model):\\n    def __init__(self, N):\\n        self.num_agents = N\\n        self.schedule = RandomActivation(self)\\n\\n        for i in range(self.num_agents):\\n            a = GwentAgent(i, self)\\n            self.schedule.add(a)\\n\\n            self.datacollector = DataCollector(\\n                agent_reporters={\\n                    \\\"Peak MMR\\\": \\\"peak_mmr\\\",\\n                    \\\"Current MMR\\\": \\\"current_mmr\\\",\\n                    \\\"Win Rate\\\": \\\"win_rate\\\",\\n                    \\\"Games Played\\\": \\\"games_played\\\",\\n                    \\\"Games Won\\\": \\\"wins\\\",\\n                    \\\"elo\\\": \\\"elo_level\\\",\\n                    \\\"elo_xp\\\": \\\"elo_experience\\\",\\n                }\\n            )\\n\\n    def step(self):\\n        self.datacollector.collect(self)\\n        self.schedule.step()\";\n",
       "                var nbb_formatted_code = \"from mesa import Agent, Model\\nfrom mesa.time import RandomActivation\\nfrom mesa.datacollection import DataCollector\\n\\nimport numpy as np\\nfrom numpy import random\\n\\nmax_playrate = 20\\nexperience_factor = 0\\n\\n\\ndef win_probability(elo_difference):\\n    proba = 1 / (1 + 10 ** (-elo_difference / 400))\\n    return proba\\n\\n\\ndef elo_change(elo_difference, K=14):\\n    return K * (1 - win_probability(elo_difference))\\n\\n\\ndef pick_elo():\\n    \\\"\\\"\\\"\\n    Generate a random elo value from a distribution that mimicks the distribution of chess elo scores on Lichess Blitz.\\n    \\\"\\\"\\\"\\n    return min(\\n        1200 + (1500 / 14) * np.abs(51 - random.binomial(100, 0.5)), 2700\\n    ) - random.randint(100)\\n\\n\\n# def pick_elo():\\n#     return random.binomial(100, 0.5) * 40 - random.randint(100) + 50\\n\\n\\nclass GwentAgent(Agent):\\n    def __init__(self, unique_id, model):\\n        super().__init__(unique_id, model)\\n        self.peak_mmr = 2400\\n        self.current_mmr = 2400\\n        self.games_played = 0\\n        self.wins = 0\\n\\n        self.elo_level = pick_elo()\\n        self.playrate = random.randint(1, max_playrate)\\n\\n    @property\\n    def win_rate(self):\\n        if self.games_played > 0:\\n            return (self.wins * 100) / self.games_played\\n        return None\\n\\n    @property\\n    def elo_experience(self):\\n        \\\"\\\"\\\"\\n        Take the ELO increased with an experience score based on the number of games played and the experience factor.\\n        \\\"\\\"\\\"\\n        return self.elo_level + np.sqrt(self.games_played) * experience_factor\\n\\n    def win(self, other_player):\\n        mmr_change = elo_change(self.current_mmr - other_player.current_mmr)\\n        self.current_mmr += mmr_change\\n        self.peak_mmr = max(self.current_mmr, self.peak_mmr)\\n        self.games_played += 1\\n        self.wins += 1\\n\\n    def loss(self, other_player):\\n        mmr_change = elo_change(other_player.current_mmr - self.current_mmr)\\n        self.current_mmr -= mmr_change\\n        self.games_played += 1\\n\\n    def find_opponent(self, min_number=20):\\n        \\\"\\\"\\\"\\n        Pick a random other agent to play against. This agent should have a comparable current mmr. So we will grow the mmr \\n        range until there are at least\\n        \\\"\\\"\\\"\\n        mmr_range = 10\\n\\n        while (\\n            len(\\n                [\\n                    a\\n                    for a in self.model.schedule.agents\\n                    if a.unique_id != self.unique_id\\n                    and abs(self.current_mmr - a.current_mmr) <= mmr_range\\n                ]\\n            )\\n            < min_number\\n        ):\\n            mmr_range += 7\\n\\n        possible_opponents = [\\n            a\\n            for a in self.model.schedule.agents\\n            if a.unique_id != self.unique_id\\n            and abs(self.current_mmr - a.current_mmr) <= mmr_range\\n        ]\\n\\n        opponent = random.choice(\\n            [a for a in possible_opponents],\\n            1,\\n            [a.playrate for a in possible_opponents],\\n        )[0]\\n\\n        return opponent\\n\\n    def play_against(self, other_agent):\\n        # Calculate win probability, check if player won, adjust scores accordingly\\n        wp = win_probability(self.elo_experience - other_agent.elo_experience)\\n        rp = random.random()\\n        won = rp < wp\\n\\n        if won:\\n            self.win(other_agent)\\n            other_agent.loss(self)\\n        else:\\n            other_agent.win(self)\\n            self.loss(other_agent)\\n\\n    def step(self):\\n        # Check if this agent will play a round\\n        rp = random.randint(max_playrate + 1)\\n        if rp >= self.playrate:\\n            return\\n\\n        # Find an opponent\\n        other_agent = self.find_opponent()\\n\\n        # Play against opponent and adjust score\\n        self.play_against(other_agent)\\n\\n\\nclass GwentModel(Model):\\n    def __init__(self, N):\\n        self.num_agents = N\\n        self.schedule = RandomActivation(self)\\n\\n        for i in range(self.num_agents):\\n            a = GwentAgent(i, self)\\n            self.schedule.add(a)\\n\\n            self.datacollector = DataCollector(\\n                agent_reporters={\\n                    \\\"Peak MMR\\\": \\\"peak_mmr\\\",\\n                    \\\"Current MMR\\\": \\\"current_mmr\\\",\\n                    \\\"Win Rate\\\": \\\"win_rate\\\",\\n                    \\\"Games Played\\\": \\\"games_played\\\",\\n                    \\\"Games Won\\\": \\\"wins\\\",\\n                    \\\"elo\\\": \\\"elo_level\\\",\\n                    \\\"elo_xp\\\": \\\"elo_experience\\\",\\n                }\\n            )\\n\\n    def step(self):\\n        self.datacollector.collect(self)\\n        self.schedule.step()\";\n",
       "                var nbb_cells = Jupyter.notebook.get_cells();\n",
       "                for (var i = 0; i < nbb_cells.length; ++i) {\n",
       "                    if (nbb_cells[i].input_prompt_number == nbb_cell_id) {\n",
       "                        if (nbb_cells[i].get_text() == nbb_unformatted_code) {\n",
       "                             nbb_cells[i].set_text(nbb_formatted_code);\n",
       "                        }\n",
       "                        break;\n",
       "                    }\n",
       "                }\n",
       "            }, 500);\n",
       "            "
      ],
      "text/plain": [
       "<IPython.core.display.Javascript object>"
      ]
     },
     "metadata": {},
     "output_type": "display_data"
    }
   ],
   "source": [
    "from mesa import Agent, Model\n",
    "from mesa.time import RandomActivation\n",
    "from mesa.datacollection import DataCollector\n",
    "\n",
    "import numpy as np\n",
    "from numpy import random\n",
    "\n",
    "max_playrate = 20\n",
    "experience_factor = 0\n",
    "\n",
    "\n",
    "def win_probability(elo_difference):\n",
    "    proba = 1 / (1 + 10 ** (-elo_difference / 400))\n",
    "    return proba\n",
    "\n",
    "\n",
    "def elo_change(elo_difference, K=14):\n",
    "    return K * (1 - win_probability(elo_difference))\n",
    "\n",
    "\n",
    "def pick_elo():\n",
    "    \"\"\"\n",
    "    Generate a random elo value from a distribution that mimicks the distribution of chess elo scores on Lichess Blitz.\n",
    "    \"\"\"\n",
    "    return min(\n",
    "        1200 + (1500 / 14) * np.abs(51 - random.binomial(100, 0.5)), 2700\n",
    "    ) - random.randint(100)\n",
    "\n",
    "\n",
    "# def pick_elo():\n",
    "#     return random.binomial(100, 0.5) * 40 - random.randint(100) + 50\n",
    "\n",
    "\n",
    "class GwentAgent(Agent):\n",
    "    def __init__(self, unique_id, model):\n",
    "        super().__init__(unique_id, model)\n",
    "        self.peak_mmr = 2400\n",
    "        self.current_mmr = 2400\n",
    "        self.games_played = 0\n",
    "        self.wins = 0\n",
    "\n",
    "        self.elo_level = pick_elo()\n",
    "        self.playrate = random.randint(1, max_playrate)\n",
    "\n",
    "    @property\n",
    "    def win_rate(self):\n",
    "        if self.games_played > 0:\n",
    "            return (self.wins * 100) / self.games_played\n",
    "        return None\n",
    "\n",
    "    @property\n",
    "    def elo_experience(self):\n",
    "        \"\"\"\n",
    "        Take the ELO increased with an experience score based on the number of games played and the experience factor.\n",
    "        \"\"\"\n",
    "        return self.elo_level + np.sqrt(self.games_played) * experience_factor\n",
    "\n",
    "    def win(self, other_player):\n",
    "        mmr_change = elo_change(self.current_mmr - other_player.current_mmr)\n",
    "        self.current_mmr += mmr_change\n",
    "        self.peak_mmr = max(self.current_mmr, self.peak_mmr)\n",
    "        self.games_played += 1\n",
    "        self.wins += 1\n",
    "\n",
    "    def loss(self, other_player):\n",
    "        mmr_change = elo_change(other_player.current_mmr - self.current_mmr)\n",
    "        self.current_mmr -= mmr_change\n",
    "        self.games_played += 1\n",
    "\n",
    "    def find_opponent(self, min_number=20):\n",
    "        \"\"\"\n",
    "        Pick a random other agent to play against. This agent should have a comparable current mmr. So we will grow the mmr \n",
    "        range until there are at least\n",
    "        \"\"\"\n",
    "        mmr_range = 10\n",
    "\n",
    "        while (\n",
    "            len(\n",
    "                [\n",
    "                    a\n",
    "                    for a in self.model.schedule.agents\n",
    "                    if a.unique_id != self.unique_id\n",
    "                    and abs(self.current_mmr - a.current_mmr) <= mmr_range\n",
    "                ]\n",
    "            )\n",
    "            < min_number\n",
    "        ):\n",
    "            mmr_range += 7\n",
    "\n",
    "        possible_opponents = [\n",
    "            a\n",
    "            for a in self.model.schedule.agents\n",
    "            if a.unique_id != self.unique_id\n",
    "            and abs(self.current_mmr - a.current_mmr) <= mmr_range\n",
    "        ]\n",
    "\n",
    "        opponent = random.choice(\n",
    "            [a for a in possible_opponents],\n",
    "            1,\n",
    "            [a.playrate for a in possible_opponents],\n",
    "        )[0]\n",
    "\n",
    "        return opponent\n",
    "\n",
    "    def play_against(self, other_agent):\n",
    "        # Calculate win probability, check if player won, adjust scores accordingly\n",
    "        wp = win_probability(self.elo_experience - other_agent.elo_experience)\n",
    "        rp = random.random()\n",
    "        won = rp < wp\n",
    "\n",
    "        if won:\n",
    "            self.win(other_agent)\n",
    "            other_agent.loss(self)\n",
    "        else:\n",
    "            other_agent.win(self)\n",
    "            self.loss(other_agent)\n",
    "\n",
    "    def step(self):\n",
    "        # Check if this agent will play a round\n",
    "        rp = random.randint(max_playrate + 1)\n",
    "        if rp >= self.playrate:\n",
    "            return\n",
    "\n",
    "        # Find an opponent\n",
    "        other_agent = self.find_opponent()\n",
    "\n",
    "        # Play against opponent and adjust score\n",
    "        self.play_against(other_agent)\n",
    "\n",
    "\n",
    "class GwentModel(Model):\n",
    "    def __init__(self, N):\n",
    "        self.num_agents = N\n",
    "        self.schedule = RandomActivation(self)\n",
    "\n",
    "        for i in range(self.num_agents):\n",
    "            a = GwentAgent(i, self)\n",
    "            self.schedule.add(a)\n",
    "\n",
    "            self.datacollector = DataCollector(\n",
    "                agent_reporters={\n",
    "                    \"Peak MMR\": \"peak_mmr\",\n",
    "                    \"Current MMR\": \"current_mmr\",\n",
    "                    \"Win Rate\": \"win_rate\",\n",
    "                    \"Games Played\": \"games_played\",\n",
    "                    \"Games Won\": \"wins\",\n",
    "                    \"elo\": \"elo_level\",\n",
    "                    \"elo_xp\": \"elo_experience\",\n",
    "                }\n",
    "            )\n",
    "\n",
    "    def step(self):\n",
    "        self.datacollector.collect(self)\n",
    "        self.schedule.step()"
   ]
  },
  {
   "cell_type": "code",
   "execution_count": 3,
   "metadata": {},
   "outputs": [
    {
     "name": "stderr",
     "output_type": "stream",
     "text": [
      "100%|████████████████████████████████████████████████████████████████████████████████| 200/200 [53:06<00:00, 15.93s/it]\n"
     ]
    },
    {
     "data": {
      "application/javascript": [
       "\n",
       "            setTimeout(function() {\n",
       "                var nbb_cell_id = 3;\n",
       "                var nbb_unformatted_code = \"from tqdm import tqdm\\n\\nmodel = GwentModel(8000)\\nfor i in tqdm(range(200)):\\n    model.step()\";\n",
       "                var nbb_formatted_code = \"from tqdm import tqdm\\n\\nmodel = GwentModel(8000)\\nfor i in tqdm(range(200)):\\n    model.step()\";\n",
       "                var nbb_cells = Jupyter.notebook.get_cells();\n",
       "                for (var i = 0; i < nbb_cells.length; ++i) {\n",
       "                    if (nbb_cells[i].input_prompt_number == nbb_cell_id) {\n",
       "                        if (nbb_cells[i].get_text() == nbb_unformatted_code) {\n",
       "                             nbb_cells[i].set_text(nbb_formatted_code);\n",
       "                        }\n",
       "                        break;\n",
       "                    }\n",
       "                }\n",
       "            }, 500);\n",
       "            "
      ],
      "text/plain": [
       "<IPython.core.display.Javascript object>"
      ]
     },
     "metadata": {},
     "output_type": "display_data"
    }
   ],
   "source": [
    "from tqdm import tqdm\n",
    "\n",
    "model = GwentModel(8000)\n",
    "for i in tqdm(range(200)):\n",
    "    model.step()"
   ]
  },
  {
   "cell_type": "code",
   "execution_count": 4,
   "metadata": {},
   "outputs": [
    {
     "data": {
      "application/javascript": [
       "\n",
       "            setTimeout(function() {\n",
       "                var nbb_cell_id = 4;\n",
       "                var nbb_unformatted_code = \"import pickle\\nimport gzip\\nimport os\\n\\nif not os.path.exists('data'):\\n    os.makedirs('data')\\nif not os.path.exists('images'):\\n    os.makedirs('images')\\n    \\nwith gzip.GzipFile(f\\\"./data/model_long_experience_factor_{experience_factor}.gz\\\", 'wb') as file:\\n    file.write(pickle.dumps(model))\";\n",
       "                var nbb_formatted_code = \"import pickle\\nimport gzip\\nimport os\\n\\nif not os.path.exists(\\\"data\\\"):\\n    os.makedirs(\\\"data\\\")\\nif not os.path.exists(\\\"images\\\"):\\n    os.makedirs(\\\"images\\\")\\n\\nwith gzip.GzipFile(\\n    f\\\"./data/model_long_experience_factor_{experience_factor}.gz\\\", \\\"wb\\\"\\n) as file:\\n    file.write(pickle.dumps(model))\";\n",
       "                var nbb_cells = Jupyter.notebook.get_cells();\n",
       "                for (var i = 0; i < nbb_cells.length; ++i) {\n",
       "                    if (nbb_cells[i].input_prompt_number == nbb_cell_id) {\n",
       "                        if (nbb_cells[i].get_text() == nbb_unformatted_code) {\n",
       "                             nbb_cells[i].set_text(nbb_formatted_code);\n",
       "                        }\n",
       "                        break;\n",
       "                    }\n",
       "                }\n",
       "            }, 500);\n",
       "            "
      ],
      "text/plain": [
       "<IPython.core.display.Javascript object>"
      ]
     },
     "metadata": {},
     "output_type": "display_data"
    }
   ],
   "source": [
    "import pickle\n",
    "import gzip\n",
    "import os\n",
    "\n",
    "if not os.path.exists('data'):\n",
    "    os.makedirs('data')\n",
    "if not os.path.exists('images'):\n",
    "    os.makedirs('images')\n",
    "    \n",
    "with gzip.GzipFile(f\"./data/model_long_experience_factor_{experience_factor}.gz\", 'wb') as file:\n",
    "    file.write(pickle.dumps(model))\n"
   ]
  },
  {
   "cell_type": "code",
   "execution_count": 5,
   "metadata": {},
   "outputs": [
    {
     "data": {
      "text/html": [
       "<div>\n",
       "<style scoped>\n",
       "    .dataframe tbody tr th:only-of-type {\n",
       "        vertical-align: middle;\n",
       "    }\n",
       "\n",
       "    .dataframe tbody tr th {\n",
       "        vertical-align: top;\n",
       "    }\n",
       "\n",
       "    .dataframe thead th {\n",
       "        text-align: right;\n",
       "    }\n",
       "</style>\n",
       "<table border=\"1\" class=\"dataframe\">\n",
       "  <thead>\n",
       "    <tr style=\"text-align: right;\">\n",
       "      <th></th>\n",
       "      <th></th>\n",
       "      <th>Peak MMR</th>\n",
       "      <th>Current MMR</th>\n",
       "      <th>Win Rate</th>\n",
       "      <th>Games Played</th>\n",
       "      <th>Games Won</th>\n",
       "      <th>elo</th>\n",
       "      <th>elo_xp</th>\n",
       "    </tr>\n",
       "    <tr>\n",
       "      <th>Step</th>\n",
       "      <th>AgentID</th>\n",
       "      <th></th>\n",
       "      <th></th>\n",
       "      <th></th>\n",
       "      <th></th>\n",
       "      <th></th>\n",
       "      <th></th>\n",
       "      <th></th>\n",
       "    </tr>\n",
       "  </thead>\n",
       "  <tbody>\n",
       "    <tr>\n",
       "      <th rowspan=\"5\" valign=\"top\">0</th>\n",
       "      <th>0</th>\n",
       "      <td>2400.0</td>\n",
       "      <td>2400.0</td>\n",
       "      <td>NaN</td>\n",
       "      <td>0</td>\n",
       "      <td>0</td>\n",
       "      <td>1717.714286</td>\n",
       "      <td>1717.714286</td>\n",
       "    </tr>\n",
       "    <tr>\n",
       "      <th>1</th>\n",
       "      <td>2400.0</td>\n",
       "      <td>2400.0</td>\n",
       "      <td>NaN</td>\n",
       "      <td>0</td>\n",
       "      <td>0</td>\n",
       "      <td>1691.714286</td>\n",
       "      <td>1691.714286</td>\n",
       "    </tr>\n",
       "    <tr>\n",
       "      <th>2</th>\n",
       "      <td>2400.0</td>\n",
       "      <td>2400.0</td>\n",
       "      <td>NaN</td>\n",
       "      <td>0</td>\n",
       "      <td>0</td>\n",
       "      <td>1248.142857</td>\n",
       "      <td>1248.142857</td>\n",
       "    </tr>\n",
       "    <tr>\n",
       "      <th>3</th>\n",
       "      <td>2400.0</td>\n",
       "      <td>2400.0</td>\n",
       "      <td>NaN</td>\n",
       "      <td>0</td>\n",
       "      <td>0</td>\n",
       "      <td>1323.285714</td>\n",
       "      <td>1323.285714</td>\n",
       "    </tr>\n",
       "    <tr>\n",
       "      <th>4</th>\n",
       "      <td>2400.0</td>\n",
       "      <td>2400.0</td>\n",
       "      <td>NaN</td>\n",
       "      <td>0</td>\n",
       "      <td>0</td>\n",
       "      <td>1569.571429</td>\n",
       "      <td>1569.571429</td>\n",
       "    </tr>\n",
       "  </tbody>\n",
       "</table>\n",
       "</div>"
      ],
      "text/plain": [
       "              Peak MMR  Current MMR  Win Rate  Games Played  Games Won  \\\n",
       "Step AgentID                                                             \n",
       "0    0          2400.0       2400.0       NaN             0          0   \n",
       "     1          2400.0       2400.0       NaN             0          0   \n",
       "     2          2400.0       2400.0       NaN             0          0   \n",
       "     3          2400.0       2400.0       NaN             0          0   \n",
       "     4          2400.0       2400.0       NaN             0          0   \n",
       "\n",
       "                      elo       elo_xp  \n",
       "Step AgentID                            \n",
       "0    0        1717.714286  1717.714286  \n",
       "     1        1691.714286  1691.714286  \n",
       "     2        1248.142857  1248.142857  \n",
       "     3        1323.285714  1323.285714  \n",
       "     4        1569.571429  1569.571429  "
      ]
     },
     "execution_count": 5,
     "metadata": {},
     "output_type": "execute_result"
    },
    {
     "data": {
      "application/javascript": [
       "\n",
       "            setTimeout(function() {\n",
       "                var nbb_cell_id = 5;\n",
       "                var nbb_unformatted_code = \"time_df = model.datacollector.get_agent_vars_dataframe()\\ntime_df.to_csv(f\\\"./data/simulation_long_steps_experience_factor_{experience_factor}.csv\\\")\\ntime_df.head()\";\n",
       "                var nbb_formatted_code = \"time_df = model.datacollector.get_agent_vars_dataframe()\\ntime_df.to_csv(\\n    f\\\"./data/simulation_long_steps_experience_factor_{experience_factor}.csv\\\"\\n)\\ntime_df.head()\";\n",
       "                var nbb_cells = Jupyter.notebook.get_cells();\n",
       "                for (var i = 0; i < nbb_cells.length; ++i) {\n",
       "                    if (nbb_cells[i].input_prompt_number == nbb_cell_id) {\n",
       "                        if (nbb_cells[i].get_text() == nbb_unformatted_code) {\n",
       "                             nbb_cells[i].set_text(nbb_formatted_code);\n",
       "                        }\n",
       "                        break;\n",
       "                    }\n",
       "                }\n",
       "            }, 500);\n",
       "            "
      ],
      "text/plain": [
       "<IPython.core.display.Javascript object>"
      ]
     },
     "metadata": {},
     "output_type": "display_data"
    }
   ],
   "source": [
    "time_df = model.datacollector.get_agent_vars_dataframe()\n",
    "time_df.to_csv(\n",
    "    f\"./data/simulation_long_steps_experience_factor_{experience_factor}.csv\"\n",
    ")\n",
    "time_df.head()"
   ]
  },
  {
   "cell_type": "code",
   "execution_count": 6,
   "metadata": {},
   "outputs": [
    {
     "data": {
      "application/javascript": [
       "\n",
       "            setTimeout(function() {\n",
       "                var nbb_cell_id = 6;\n",
       "                var nbb_unformatted_code = \"import seaborn as sns\\nimport matplotlib.pyplot as plt\\nimport pandas as pd\\n\\nplt.rcParams[\\\"figure.figsize\\\"] = [15, 5]\";\n",
       "                var nbb_formatted_code = \"import seaborn as sns\\nimport matplotlib.pyplot as plt\\nimport pandas as pd\\n\\nplt.rcParams[\\\"figure.figsize\\\"] = [15, 5]\";\n",
       "                var nbb_cells = Jupyter.notebook.get_cells();\n",
       "                for (var i = 0; i < nbb_cells.length; ++i) {\n",
       "                    if (nbb_cells[i].input_prompt_number == nbb_cell_id) {\n",
       "                        if (nbb_cells[i].get_text() == nbb_unformatted_code) {\n",
       "                             nbb_cells[i].set_text(nbb_formatted_code);\n",
       "                        }\n",
       "                        break;\n",
       "                    }\n",
       "                }\n",
       "            }, 500);\n",
       "            "
      ],
      "text/plain": [
       "<IPython.core.display.Javascript object>"
      ]
     },
     "metadata": {},
     "output_type": "display_data"
    }
   ],
   "source": [
    "import seaborn as sns\n",
    "import matplotlib.pyplot as plt\n",
    "import pandas as pd\n",
    "\n",
    "plt.rcParams[\"figure.figsize\"] = [15, 5]"
   ]
  },
  {
   "cell_type": "code",
   "execution_count": 7,
   "metadata": {},
   "outputs": [
    {
     "data": {
      "image/png": "[encoded data removed]",
      "text/plain": [
       "<Figure size 1080x360 with 1 Axes>"
      ]
     },
     "metadata": {
      "needs_background": "light"
     },
     "output_type": "display_data"
    },
    {
     "data": {
      "application/javascript": [
       "\n",
       "            setTimeout(function() {\n",
       "                var nbb_cell_id = 7;\n",
       "                var nbb_unformatted_code = \"sns.histplot([agent.games_played for agent in model.schedule.agents]).set_title(\\n    \\\"Games played\\\"\\n)\\nplt.show()\";\n",
       "                var nbb_formatted_code = \"sns.histplot([agent.games_played for agent in model.schedule.agents]).set_title(\\n    \\\"Games played\\\"\\n)\\nplt.show()\";\n",
       "                var nbb_cells = Jupyter.notebook.get_cells();\n",
       "                for (var i = 0; i < nbb_cells.length; ++i) {\n",
       "                    if (nbb_cells[i].input_prompt_number == nbb_cell_id) {\n",
       "                        if (nbb_cells[i].get_text() == nbb_unformatted_code) {\n",
       "                             nbb_cells[i].set_text(nbb_formatted_code);\n",
       "                        }\n",
       "                        break;\n",
       "                    }\n",
       "                }\n",
       "            }, 500);\n",
       "            "
      ],
      "text/plain": [
       "<IPython.core.display.Javascript object>"
      ]
     },
     "metadata": {},
     "output_type": "display_data"
    }
   ],
   "source": [
    "sns.histplot([agent.games_played for agent in model.schedule.agents]).set_title(\n",
    "    \"Games played\"\n",
    ")\n",
    "plt.show()"
   ]
  },
  {
   "cell_type": "code",
   "execution_count": 8,
   "metadata": {},
   "outputs": [
    {
     "data": {
      "image/png": "[encoded data removed]",
      "text/plain": [
       "<Figure size 1080x360 with 1 Axes>"
      ]
     },
     "metadata": {
      "needs_background": "light"
     },
     "output_type": "display_data"
    },
    {
     "data": {
      "application/javascript": [
       "\n",
       "            setTimeout(function() {\n",
       "                var nbb_cell_id = 8;\n",
       "                var nbb_unformatted_code = \"sns.histplot([agent.elo_level for agent in model.schedule.agents]).set_title(\\\"Elo\\\")\\nplt.show()\";\n",
       "                var nbb_formatted_code = \"sns.histplot([agent.elo_level for agent in model.schedule.agents]).set_title(\\\"Elo\\\")\\nplt.show()\";\n",
       "                var nbb_cells = Jupyter.notebook.get_cells();\n",
       "                for (var i = 0; i < nbb_cells.length; ++i) {\n",
       "                    if (nbb_cells[i].input_prompt_number == nbb_cell_id) {\n",
       "                        if (nbb_cells[i].get_text() == nbb_unformatted_code) {\n",
       "                             nbb_cells[i].set_text(nbb_formatted_code);\n",
       "                        }\n",
       "                        break;\n",
       "                    }\n",
       "                }\n",
       "            }, 500);\n",
       "            "
      ],
      "text/plain": [
       "<IPython.core.display.Javascript object>"
      ]
     },
     "metadata": {},
     "output_type": "display_data"
    }
   ],
   "source": [
    "sns.histplot([agent.elo_level for agent in model.schedule.agents]).set_title(\"Elo\")\n",
    "plt.show()"
   ]
  },
  {
   "cell_type": "code",
   "execution_count": 9,
   "metadata": {},
   "outputs": [
    {
     "data": {
      "image/png": "[encoded data removed]",
      "text/plain": [
       "<Figure size 1080x360 with 1 Axes>"
      ]
     },
     "metadata": {
      "needs_background": "light"
     },
     "output_type": "display_data"
    },
    {
     "data": {
      "application/javascript": [
       "\n",
       "            setTimeout(function() {\n",
       "                var nbb_cell_id = 9;\n",
       "                var nbb_unformatted_code = \"sns.histplot([agent.elo_experience for agent in model.schedule.agents]).set_title(\\n    \\\"Elo + XP\\\"\\n)\\nplt.show()\";\n",
       "                var nbb_formatted_code = \"sns.histplot([agent.elo_experience for agent in model.schedule.agents]).set_title(\\n    \\\"Elo + XP\\\"\\n)\\nplt.show()\";\n",
       "                var nbb_cells = Jupyter.notebook.get_cells();\n",
       "                for (var i = 0; i < nbb_cells.length; ++i) {\n",
       "                    if (nbb_cells[i].input_prompt_number == nbb_cell_id) {\n",
       "                        if (nbb_cells[i].get_text() == nbb_unformatted_code) {\n",
       "                             nbb_cells[i].set_text(nbb_formatted_code);\n",
       "                        }\n",
       "                        break;\n",
       "                    }\n",
       "                }\n",
       "            }, 500);\n",
       "            "
      ],
      "text/plain": [
       "<IPython.core.display.Javascript object>"
      ]
     },
     "metadata": {},
     "output_type": "display_data"
    }
   ],
   "source": [
    "sns.histplot([agent.elo_experience for agent in model.schedule.agents]).set_title(\n",
    "    \"Elo + XP\"\n",
    ")\n",
    "plt.show()"
   ]
  },
  {
   "cell_type": "code",
   "execution_count": 10,
   "metadata": {},
   "outputs": [
    {
     "data": {
      "image/png": "[encoded data removed]",
      "text/plain": [
       "<Figure size 1080x360 with 1 Axes>"
      ]
     },
     "metadata": {
      "needs_background": "light"
     },
     "output_type": "display_data"
    },
    {
     "data": {
      "application/javascript": [
       "\n",
       "            setTimeout(function() {\n",
       "                var nbb_cell_id = 10;\n",
       "                var nbb_unformatted_code = \"sns.histplot([agent.peak_mmr for agent in model.schedule.agents]).set_title(\\\"Peak MMR\\\")\\nplt.show()\";\n",
       "                var nbb_formatted_code = \"sns.histplot([agent.peak_mmr for agent in model.schedule.agents]).set_title(\\\"Peak MMR\\\")\\nplt.show()\";\n",
       "                var nbb_cells = Jupyter.notebook.get_cells();\n",
       "                for (var i = 0; i < nbb_cells.length; ++i) {\n",
       "                    if (nbb_cells[i].input_prompt_number == nbb_cell_id) {\n",
       "                        if (nbb_cells[i].get_text() == nbb_unformatted_code) {\n",
       "                             nbb_cells[i].set_text(nbb_formatted_code);\n",
       "                        }\n",
       "                        break;\n",
       "                    }\n",
       "                }\n",
       "            }, 500);\n",
       "            "
      ],
      "text/plain": [
       "<IPython.core.display.Javascript object>"
      ]
     },
     "metadata": {},
     "output_type": "display_data"
    }
   ],
   "source": [
    "sns.histplot([agent.peak_mmr for agent in model.schedule.agents]).set_title(\"Peak MMR\")\n",
    "plt.show()"
   ]
  },
  {
   "cell_type": "code",
   "execution_count": 11,
   "metadata": {},
   "outputs": [
    {
     "data": {
      "image/png": "[encoded data removed]",
      "text/plain": [
       "<Figure size 1080x360 with 1 Axes>"
      ]
     },
     "metadata": {
      "needs_background": "light"
     },
     "output_type": "display_data"
    },
    {
     "data": {
      "application/javascript": [
       "\n",
       "            setTimeout(function() {\n",
       "                var nbb_cell_id = 11;\n",
       "                var nbb_unformatted_code = \"sns.histplot([agent.current_mmr for agent in model.schedule.agents]).set_title(\\n    \\\"Current MMR\\\"\\n)\\nplt.show()\";\n",
       "                var nbb_formatted_code = \"sns.histplot([agent.current_mmr for agent in model.schedule.agents]).set_title(\\n    \\\"Current MMR\\\"\\n)\\nplt.show()\";\n",
       "                var nbb_cells = Jupyter.notebook.get_cells();\n",
       "                for (var i = 0; i < nbb_cells.length; ++i) {\n",
       "                    if (nbb_cells[i].input_prompt_number == nbb_cell_id) {\n",
       "                        if (nbb_cells[i].get_text() == nbb_unformatted_code) {\n",
       "                             nbb_cells[i].set_text(nbb_formatted_code);\n",
       "                        }\n",
       "                        break;\n",
       "                    }\n",
       "                }\n",
       "            }, 500);\n",
       "            "
      ],
      "text/plain": [
       "<IPython.core.display.Javascript object>"
      ]
     },
     "metadata": {},
     "output_type": "display_data"
    }
   ],
   "source": [
    "sns.histplot([agent.current_mmr for agent in model.schedule.agents]).set_title(\n",
    "    \"Current MMR\"\n",
    ")\n",
    "plt.show()"
   ]
  },
  {
   "cell_type": "code",
   "execution_count": 12,
   "metadata": {},
   "outputs": [
    {
     "data": {
      "text/html": [
       "<div>\n",
       "<style scoped>\n",
       "    .dataframe tbody tr th:only-of-type {\n",
       "        vertical-align: middle;\n",
       "    }\n",
       "\n",
       "    .dataframe tbody tr th {\n",
       "        vertical-align: top;\n",
       "    }\n",
       "\n",
       "    .dataframe thead th {\n",
       "        text-align: right;\n",
       "    }\n",
       "</style>\n",
       "<table border=\"1\" class=\"dataframe\">\n",
       "  <thead>\n",
       "    <tr style=\"text-align: right;\">\n",
       "      <th></th>\n",
       "      <th>player</th>\n",
       "      <th>elo</th>\n",
       "      <th>playrate</th>\n",
       "      <th>games played</th>\n",
       "      <th>current MMR</th>\n",
       "      <th>peak MMR</th>\n",
       "      <th>win rate</th>\n",
       "      <th>rank</th>\n",
       "      <th>elo bin</th>\n",
       "      <th>games played percentile</th>\n",
       "      <th>games played bin</th>\n",
       "    </tr>\n",
       "  </thead>\n",
       "  <tbody>\n",
       "    <tr>\n",
       "      <th>0</th>\n",
       "      <td>Player 0</td>\n",
       "      <td>1717.714286</td>\n",
       "      <td>17</td>\n",
       "      <td>260</td>\n",
       "      <td>2442.187626</td>\n",
       "      <td>2491.728024</td>\n",
       "      <td>50.769231</td>\n",
       "      <td>2252.0</td>\n",
       "      <td>(1700, 1900]</td>\n",
       "      <td>0.869313</td>\n",
       "      <td>(0.75, 1.0]</td>\n",
       "    </tr>\n",
       "    <tr>\n",
       "      <th>1</th>\n",
       "      <td>Player 1</td>\n",
       "      <td>1691.714286</td>\n",
       "      <td>4</td>\n",
       "      <td>127</td>\n",
       "      <td>2459.944665</td>\n",
       "      <td>2476.633961</td>\n",
       "      <td>52.755906</td>\n",
       "      <td>2740.0</td>\n",
       "      <td>(1500, 1700]</td>\n",
       "      <td>0.147313</td>\n",
       "      <td>(0.0, 0.25]</td>\n",
       "    </tr>\n",
       "    <tr>\n",
       "      <th>2</th>\n",
       "      <td>Player 2</td>\n",
       "      <td>1248.142857</td>\n",
       "      <td>16</td>\n",
       "      <td>252</td>\n",
       "      <td>2322.473476</td>\n",
       "      <td>2400.000000</td>\n",
       "      <td>47.222222</td>\n",
       "      <td>7586.5</td>\n",
       "      <td>(1100, 1300]</td>\n",
       "      <td>0.822625</td>\n",
       "      <td>(0.75, 1.0]</td>\n",
       "    </tr>\n",
       "    <tr>\n",
       "      <th>3</th>\n",
       "      <td>Player 3</td>\n",
       "      <td>1323.285714</td>\n",
       "      <td>8</td>\n",
       "      <td>161</td>\n",
       "      <td>2323.519772</td>\n",
       "      <td>2400.854596</td>\n",
       "      <td>45.962733</td>\n",
       "      <td>6847.0</td>\n",
       "      <td>(1300, 1500]</td>\n",
       "      <td>0.327875</td>\n",
       "      <td>(0.25, 0.5]</td>\n",
       "    </tr>\n",
       "    <tr>\n",
       "      <th>4</th>\n",
       "      <td>Player 4</td>\n",
       "      <td>1569.571429</td>\n",
       "      <td>12</td>\n",
       "      <td>195</td>\n",
       "      <td>2421.324969</td>\n",
       "      <td>2459.586586</td>\n",
       "      <td>50.256410</td>\n",
       "      <td>3380.0</td>\n",
       "      <td>(1500, 1700]</td>\n",
       "      <td>0.504437</td>\n",
       "      <td>(0.5, 0.75]</td>\n",
       "    </tr>\n",
       "    <tr>\n",
       "      <th>...</th>\n",
       "      <td>...</td>\n",
       "      <td>...</td>\n",
       "      <td>...</td>\n",
       "      <td>...</td>\n",
       "      <td>...</td>\n",
       "      <td>...</td>\n",
       "      <td>...</td>\n",
       "      <td>...</td>\n",
       "      <td>...</td>\n",
       "      <td>...</td>\n",
       "      <td>...</td>\n",
       "    </tr>\n",
       "    <tr>\n",
       "      <th>7995</th>\n",
       "      <td>Player 7995</td>\n",
       "      <td>1551.571429</td>\n",
       "      <td>14</td>\n",
       "      <td>242</td>\n",
       "      <td>2429.868385</td>\n",
       "      <td>2429.868385</td>\n",
       "      <td>50.413223</td>\n",
       "      <td>4632.0</td>\n",
       "      <td>(1500, 1700]</td>\n",
       "      <td>0.765188</td>\n",
       "      <td>(0.75, 1.0]</td>\n",
       "    </tr>\n",
       "    <tr>\n",
       "      <th>7996</th>\n",
       "      <td>Player 7996</td>\n",
       "      <td>1411.285714</td>\n",
       "      <td>12</td>\n",
       "      <td>231</td>\n",
       "      <td>2366.109634</td>\n",
       "      <td>2408.212224</td>\n",
       "      <td>48.484848</td>\n",
       "      <td>6010.0</td>\n",
       "      <td>(1300, 1500]</td>\n",
       "      <td>0.708625</td>\n",
       "      <td>(0.5, 0.75]</td>\n",
       "    </tr>\n",
       "    <tr>\n",
       "      <th>7997</th>\n",
       "      <td>Player 7997</td>\n",
       "      <td>1131.000000</td>\n",
       "      <td>6</td>\n",
       "      <td>162</td>\n",
       "      <td>2275.765120</td>\n",
       "      <td>2400.000000</td>\n",
       "      <td>43.827160</td>\n",
       "      <td>7586.5</td>\n",
       "      <td>(1100, 1300]</td>\n",
       "      <td>0.332250</td>\n",
       "      <td>(0.25, 0.5]</td>\n",
       "    </tr>\n",
       "    <tr>\n",
       "      <th>7998</th>\n",
       "      <td>Player 7998</td>\n",
       "      <td>1277.142857</td>\n",
       "      <td>17</td>\n",
       "      <td>264</td>\n",
       "      <td>2348.320578</td>\n",
       "      <td>2400.000000</td>\n",
       "      <td>48.106061</td>\n",
       "      <td>7586.5</td>\n",
       "      <td>(1100, 1300]</td>\n",
       "      <td>0.890563</td>\n",
       "      <td>(0.75, 1.0]</td>\n",
       "    </tr>\n",
       "    <tr>\n",
       "      <th>7999</th>\n",
       "      <td>Player 7999</td>\n",
       "      <td>1258.142857</td>\n",
       "      <td>17</td>\n",
       "      <td>278</td>\n",
       "      <td>2348.996198</td>\n",
       "      <td>2418.337752</td>\n",
       "      <td>48.201439</td>\n",
       "      <td>5242.0</td>\n",
       "      <td>(1100, 1300]</td>\n",
       "      <td>0.960375</td>\n",
       "      <td>(0.75, 1.0]</td>\n",
       "    </tr>\n",
       "  </tbody>\n",
       "</table>\n",
       "<p>8000 rows × 11 columns</p>\n",
       "</div>"
      ],
      "text/plain": [
       "           player          elo  playrate  games played  current MMR  \\\n",
       "0        Player 0  1717.714286        17           260  2442.187626   \n",
       "1        Player 1  1691.714286         4           127  2459.944665   \n",
       "2        Player 2  1248.142857        16           252  2322.473476   \n",
       "3        Player 3  1323.285714         8           161  2323.519772   \n",
       "4        Player 4  1569.571429        12           195  2421.324969   \n",
       "...           ...          ...       ...           ...          ...   \n",
       "7995  Player 7995  1551.571429        14           242  2429.868385   \n",
       "7996  Player 7996  1411.285714        12           231  2366.109634   \n",
       "7997  Player 7997  1131.000000         6           162  2275.765120   \n",
       "7998  Player 7998  1277.142857        17           264  2348.320578   \n",
       "7999  Player 7999  1258.142857        17           278  2348.996198   \n",
       "\n",
       "         peak MMR   win rate    rank       elo bin  games played percentile  \\\n",
       "0     2491.728024  50.769231  2252.0  (1700, 1900]                 0.869313   \n",
       "1     2476.633961  52.755906  2740.0  (1500, 1700]                 0.147313   \n",
       "2     2400.000000  47.222222  7586.5  (1100, 1300]                 0.822625   \n",
       "3     2400.854596  45.962733  6847.0  (1300, 1500]                 0.327875   \n",
       "4     2459.586586  50.256410  3380.0  (1500, 1700]                 0.504437   \n",
       "...           ...        ...     ...           ...                      ...   \n",
       "7995  2429.868385  50.413223  4632.0  (1500, 1700]                 0.765188   \n",
       "7996  2408.212224  48.484848  6010.0  (1300, 1500]                 0.708625   \n",
       "7997  2400.000000  43.827160  7586.5  (1100, 1300]                 0.332250   \n",
       "7998  2400.000000  48.106061  7586.5  (1100, 1300]                 0.890563   \n",
       "7999  2418.337752  48.201439  5242.0  (1100, 1300]                 0.960375   \n",
       "\n",
       "     games played bin  \n",
       "0         (0.75, 1.0]  \n",
       "1         (0.0, 0.25]  \n",
       "2         (0.75, 1.0]  \n",
       "3         (0.25, 0.5]  \n",
       "4         (0.5, 0.75]  \n",
       "...               ...  \n",
       "7995      (0.75, 1.0]  \n",
       "7996      (0.5, 0.75]  \n",
       "7997      (0.25, 0.5]  \n",
       "7998      (0.75, 1.0]  \n",
       "7999      (0.75, 1.0]  \n",
       "\n",
       "[8000 rows x 11 columns]"
      ]
     },
     "execution_count": 12,
     "metadata": {},
     "output_type": "execute_result"
    },
    {
     "data": {
      "application/javascript": [
       "\n",
       "            setTimeout(function() {\n",
       "                var nbb_cell_id = 12;\n",
       "                var nbb_unformatted_code = \"df = pd.DataFrame(\\n    {\\n        \\\"player\\\": [f\\\"Player {agent.unique_id}\\\" for agent in model.schedule.agents],\\n        \\\"elo\\\": [agent.elo_level for agent in model.schedule.agents],\\n        \\\"playrate\\\": [agent.playrate for agent in model.schedule.agents],\\n        \\\"games played\\\": [agent.games_played for agent in model.schedule.agents],\\n        \\\"current MMR\\\": [agent.current_mmr for agent in model.schedule.agents],\\n        \\\"peak MMR\\\": [agent.peak_mmr for agent in model.schedule.agents],\\n        \\\"win rate\\\": [agent.win_rate for agent in model.schedule.agents],\\n    }\\n)\\ndf[\\\"rank\\\"] = df[\\\"peak MMR\\\"].rank(ascending=False)\\ndf[\\\"elo bin\\\"] = pd.cut(df[\\\"elo\\\"], list(range(1100, 2800, 200)))\\ndf[\\\"games played percentile\\\"] = df[\\\"games played\\\"].rank(pct=True)\\ndf[\\\"games played bin\\\"] = pd.cut(df[\\\"games played percentile\\\"], [0, 0.25, 0.50, 0.75, 1])\\ndf.to_excel(f\\\"./data/final_data_long_experience_factor_{experience_factor}.xlsx\\\")\\ndf\";\n",
       "                var nbb_formatted_code = \"df = pd.DataFrame(\\n    {\\n        \\\"player\\\": [f\\\"Player {agent.unique_id}\\\" for agent in model.schedule.agents],\\n        \\\"elo\\\": [agent.elo_level for agent in model.schedule.agents],\\n        \\\"playrate\\\": [agent.playrate for agent in model.schedule.agents],\\n        \\\"games played\\\": [agent.games_played for agent in model.schedule.agents],\\n        \\\"current MMR\\\": [agent.current_mmr for agent in model.schedule.agents],\\n        \\\"peak MMR\\\": [agent.peak_mmr for agent in model.schedule.agents],\\n        \\\"win rate\\\": [agent.win_rate for agent in model.schedule.agents],\\n    }\\n)\\ndf[\\\"rank\\\"] = df[\\\"peak MMR\\\"].rank(ascending=False)\\ndf[\\\"elo bin\\\"] = pd.cut(df[\\\"elo\\\"], list(range(1100, 2800, 200)))\\ndf[\\\"games played percentile\\\"] = df[\\\"games played\\\"].rank(pct=True)\\ndf[\\\"games played bin\\\"] = pd.cut(df[\\\"games played percentile\\\"], [0, 0.25, 0.50, 0.75, 1])\\ndf.to_excel(f\\\"./data/final_data_long_experience_factor_{experience_factor}.xlsx\\\")\\ndf\";\n",
       "                var nbb_cells = Jupyter.notebook.get_cells();\n",
       "                for (var i = 0; i < nbb_cells.length; ++i) {\n",
       "                    if (nbb_cells[i].input_prompt_number == nbb_cell_id) {\n",
       "                        if (nbb_cells[i].get_text() == nbb_unformatted_code) {\n",
       "                             nbb_cells[i].set_text(nbb_formatted_code);\n",
       "                        }\n",
       "                        break;\n",
       "                    }\n",
       "                }\n",
       "            }, 500);\n",
       "            "
      ],
      "text/plain": [
       "<IPython.core.display.Javascript object>"
      ]
     },
     "metadata": {},
     "output_type": "display_data"
    }
   ],
   "source": [
    "df = pd.DataFrame(\n",
    "    {\n",
    "        \"player\": [f\"Player {agent.unique_id}\" for agent in model.schedule.agents],\n",
    "        \"elo\": [agent.elo_level for agent in model.schedule.agents],\n",
    "        \"playrate\": [agent.playrate for agent in model.schedule.agents],\n",
    "        \"games played\": [agent.games_played for agent in model.schedule.agents],\n",
    "        \"current MMR\": [agent.current_mmr for agent in model.schedule.agents],\n",
    "        \"peak MMR\": [agent.peak_mmr for agent in model.schedule.agents],\n",
    "        \"win rate\": [agent.win_rate for agent in model.schedule.agents],\n",
    "    }\n",
    ")\n",
    "df[\"rank\"] = df[\"peak MMR\"].rank(ascending=False)\n",
    "df[\"elo bin\"] = pd.cut(df[\"elo\"], list(range(1100, 2800, 200)))\n",
    "df[\"games played percentile\"] = df[\"games played\"].rank(pct=True)\n",
    "df[\"games played bin\"] = pd.cut(df[\"games played percentile\"], [0, 0.25, 0.50, 0.75, 1])\n",
    "df.to_excel(f\"./data/final_data_long_experience_factor_{experience_factor}.xlsx\")\n",
    "df"
   ]
  }
 ],
 "metadata": {
  "kernelspec": {
   "display_name": "Python 3",
   "language": "python",
   "name": "python3"
  },
  "language_info": {
   "codemirror_mode": {
    "name": "ipython",
    "version": 3
   },
   "file_extension": ".py",
   "mimetype": "text/x-python",
   "name": "python",
   "nbconvert_exporter": "python",
   "pygments_lexer": "ipython3",
   "version": "3.7.6"
  }
 },
 "nbformat": 4,
 "nbformat_minor": 4
}
